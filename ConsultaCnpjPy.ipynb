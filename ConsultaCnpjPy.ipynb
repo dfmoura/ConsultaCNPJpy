{
 "cells": [
  {
   "cell_type": "markdown",
   "id": "69dbd11e",
   "metadata": {},
   "source": [
    "# Consultar API receita federal para extrair dados do CNPJ"
   ]
  },
  {
   "cell_type": "code",
   "execution_count": 46,
   "id": "11a53d0b",
   "metadata": {},
   "outputs": [],
   "source": [
    "import requests\n",
    "import json"
   ]
  },
  {
   "cell_type": "code",
   "execution_count": 51,
   "id": "1899174b",
   "metadata": {},
   "outputs": [],
   "source": [
    "def consulta_cnpj(cnpj): \n",
    "    \n",
    "    url = f\"https://www.receitaws.com.br/v1/cnpj/{cnpj}\"\n",
    "    querystring = {\"token\":\"XXXXXXXX-XXXX-XXXX-XXXX-XXXXXXXXXXXX\",\"cnpj\":\"06990590000123\",\"plugin\":\"RF\"}\n",
    "    response = requests.request(\"GET\", url, params=querystring)\n",
    "    \n",
    "    resp = json.loads(response.text)\n",
    "    #print(response.text)\n",
    "    #print(resp['atividade_principal'])\n",
    "    \n",
    "    return resp['capital_social'], resp['nome'], resp['logradouro'], resp['numero'], resp['complemento'], resp['bairro'], resp['municipio'], resp['uf'], resp['cep'], resp['telefone'], resp['email']    \n"
   ]
  },
  {
   "cell_type": "code",
   "execution_count": 52,
   "id": "6702bda7",
   "metadata": {},
   "outputs": [
    {
     "data": {
      "text/plain": [
       "('100000000.00',\n",
       " 'LIMA & PERGHER INDUSTRIA E COMERCIO S/A',\n",
       " 'AV ALMIRANTE BARROSO',\n",
       " '22',\n",
       " 'SALA 402',\n",
       " 'CENTRO',\n",
       " 'RIO DE JANEIRO',\n",
       " 'RJ',\n",
       " '20.031-000',\n",
       " '(21) 2671-9496',\n",
       " 'contabil@ivacontabil.com.br')"
      ]
     },
     "execution_count": 52,
     "metadata": {},
     "output_type": "execute_result"
    }
   ],
   "source": [
    "consulta_cnpj('22685341000180')"
   ]
  },
  {
   "cell_type": "code",
   "execution_count": null,
   "id": "f27dbe26",
   "metadata": {},
   "outputs": [],
   "source": []
  }
 ],
 "metadata": {
  "kernelspec": {
   "display_name": "Python 3 (ipykernel)",
   "language": "python",
   "name": "python3"
  },
  "language_info": {
   "codemirror_mode": {
    "name": "ipython",
    "version": 3
   },
   "file_extension": ".py",
   "mimetype": "text/x-python",
   "name": "python",
   "nbconvert_exporter": "python",
   "pygments_lexer": "ipython3",
   "version": "3.9.12"
  }
 },
 "nbformat": 4,
 "nbformat_minor": 5
}
